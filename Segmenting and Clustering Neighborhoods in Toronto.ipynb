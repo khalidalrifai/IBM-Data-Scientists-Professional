{
    "cells": [
        {
            "metadata": {},
            "cell_type": "markdown",
            "source": "## Importing Libraries"
        },
        {
            "metadata": {},
            "cell_type": "code",
            "source": "# To access system-specific parameters and functions\nimport sys\n# A general-purpose array-processing package\nimport numpy as np\n# A library to manage the file-related input and output operations\nimport io\n#from IPython.display import Image\n\n!pip install geocoder\nimport geocoder\n\n# library for Data Analsysis\nimport pandas as pd\npd.set_option('display.max_columns', None)\npd.set_option('display.max_rows', None)\n\n# Matplotlib and Associated Plotting Modules\nimport matplotlib.pyplot as plt\nimport matplotlib.colors as colors\n\n# Library to Handle JSON Files\nimport json\n\n# Library to Handle Requests\nimport requests\n\n# uncomment this line if you haven't completed the Foursquare API lab\n!conda install -c conda-forge geopy --yes\n# convert an address into latitude and longitude values\nfrom geopy.geocoders import Nominatim\n\n# tranform JSON file into a pandas dataframe\nfrom pandas.io.json import json_normalize \n\n!conda install -c conda-forge scikit-learn\n# import k-means from clustering stage\nfrom sklearn.cluster import KMeans\n\n# uncomment this line if you haven't completed the Foursquare API lab\n!conda install -c conda-forge folium=0.5.0 --yes\nimport folium # map rendering library\n\n!conda install -c conda-forge beautifulsoup4 --yes\nfrom bs4 import BeautifulSoup\n\nprint('Libraries imported.')\n%matplotlib inline",
            "execution_count": null,
            "outputs": [
                {
                    "output_type": "stream",
                    "text": "Requirement already satisfied: geocoder in /opt/conda/envs/Python-3.7-main/lib/python3.7/site-packages (1.38.1)\nRequirement already satisfied: click in /opt/conda/envs/Python-3.7-main/lib/python3.7/site-packages (from geocoder) (7.1.2)\nRequirement already satisfied: ratelim in /opt/conda/envs/Python-3.7-main/lib/python3.7/site-packages (from geocoder) (0.1.6)\nRequirement already satisfied: future in /opt/conda/envs/Python-3.7-main/lib/python3.7/site-packages (from geocoder) (0.18.2)\nRequirement already satisfied: requests in /opt/conda/envs/Python-3.7-main/lib/python3.7/site-packages (from geocoder) (2.25.1)\nRequirement already satisfied: six in /opt/conda/envs/Python-3.7-main/lib/python3.7/site-packages (from geocoder) (1.15.0)\nRequirement already satisfied: decorator in /opt/conda/envs/Python-3.7-main/lib/python3.7/site-packages (from ratelim->geocoder) (4.4.2)\nRequirement already satisfied: certifi>=2017.4.17 in /opt/conda/envs/Python-3.7-main/lib/python3.7/site-packages (from requests->geocoder) (2020.12.5)\nRequirement already satisfied: chardet<5,>=3.0.2 in /opt/conda/envs/Python-3.7-main/lib/python3.7/site-packages (from requests->geocoder) (4.0.0)\nRequirement already satisfied: idna<3,>=2.5 in /opt/conda/envs/Python-3.7-main/lib/python3.7/site-packages (from requests->geocoder) (2.10)\nRequirement already satisfied: urllib3<1.27,>=1.21.1 in /opt/conda/envs/Python-3.7-main/lib/python3.7/site-packages (from requests->geocoder) (1.26.3)\nCollecting package metadata (current_repodata.json): done\nSolving environment: done\n\n# All requested packages already installed.\n\nCollecting package metadata (current_repodata.json): done\nSolving environment: done\n\n# All requested packages already installed.\n\nCollecting package metadata (current_repodata.json): done\nSolving environment: done\n\n# All requested packages already installed.\n\nCollecting package metadata (current_repodata.json): done\nSolving environment: \\ ",
                    "name": "stdout"
                }
            ]
        },
        {
            "metadata": {},
            "cell_type": "markdown",
            "source": "## Part 1) Create DataFrame from Wikipedia page"
        },
        {
            "metadata": {},
            "cell_type": "markdown",
            "source": "### Fetching the Data from Wikipedia and Creating a Table with it"
        },
        {
            "metadata": {},
            "cell_type": "code",
            "source": "# Reading Wikipedia's page\nread_url = pd.read_html(\"https://en.wikipedia.org/wiki/List_of_postal_codes_of_Canada:_M\")\n\n# To veryify the reading of Wikipedia's page\n#print(type(read_url))\n#print(len(read_url))\n\n# The desired DataFrame is the first item in the list read_url. We don't need the other two DataFrames\n#print(read_url[0])\n#print(read_url[1])\n#print(read_url[2])\n\ndf = read_url[0]\n#df.head(5)\n\n# Checking if there is a duplicate in Postal Code. Every Postal Code must present once only.\na = df[\"Postal Code\"].value_counts()\n    \nfor item in a:\n    if item != 1:\n        print(\"Attention: There is a duplicate in Postal Code!\")\n\n# Getting rid of the \"Not assigned\"-values in the Borough Column:\ndf[\"Borough\"].replace(\"Not assigned\", np.nan, inplace=True)\n#df.head(5)\n\ndf_new = df.dropna(subset=[\"Borough\"])\ndf_new.reset_index(drop=True, inplace=True)\ndf_new.head(5)",
            "execution_count": null,
            "outputs": []
        },
        {
            "metadata": {},
            "cell_type": "markdown",
            "source": "### Counting the number of \"Not assigned\"-values, that is left in Neighbourhood-Column:"
        },
        {
            "metadata": {},
            "cell_type": "code",
            "source": "#There should be no \"Not assigned\"-values in Neighbourhood-column!\ndf_new[\"Neighbourhood\"].isin(['Not assigned']).sum()\ndf_new.shape",
            "execution_count": null,
            "outputs": []
        },
        {
            "metadata": {},
            "cell_type": "markdown",
            "source": "## Part 2) Modify the created Dataframe"
        },
        {
            "metadata": {},
            "cell_type": "markdown",
            "source": "### Load the coordinates data and sort the dataframe by its postal code:"
        },
        {
            "metadata": {},
            "cell_type": "code",
            "source": "url=\"https://cocl.us/Geospatial_data\"\ns=requests.get(url).content\ndf_coords=pd.read_csv(io.StringIO(s.decode('utf-8')))\ndf_coords.sort_values(by=[\"Postal Code\"], inplace=True, ignore_index=True)\ndf_coords.head()",
            "execution_count": null,
            "outputs": []
        },
        {
            "metadata": {},
            "cell_type": "markdown",
            "source": ""
        },
        {
            "metadata": {},
            "cell_type": "markdown",
            "source": "### Sort the dataframe, gained from wikipedia, by its postal code too:"
        },
        {
            "metadata": {},
            "cell_type": "code",
            "source": "df_new.sort_values(by=[\"Postal Code\"], inplace=True, ignore_index=True)\ndf_new.head(10)",
            "execution_count": null,
            "outputs": []
        },
        {
            "metadata": {},
            "cell_type": "markdown",
            "source": "### Checking if the two DataFrames are sorted the same way and if they have the same length:"
        },
        {
            "metadata": {},
            "cell_type": "code",
            "source": "if df_coords[\"Postal Code\"].values.all() == df_new[\"Postal Code\"].values.all():\n    print(\"The two dataframes are sorted in the same order and have the same length!\")\nelse:\n    print(\"The two dataframes are NOT sorted in the same order!!! Don't concate them of the coordinates will be mixed!!!\")",
            "execution_count": null,
            "outputs": []
        },
        {
            "metadata": {},
            "cell_type": "markdown",
            "source": "### Drop the postal code column in df_coords and concate the two DataFrames:"
        },
        {
            "metadata": {},
            "cell_type": "code",
            "source": "df_coords.drop(\"Postal Code\", axis=1, inplace=True)\ndf_coords.head()",
            "execution_count": null,
            "outputs": []
        },
        {
            "metadata": {},
            "cell_type": "code",
            "source": "pd.options.display.max_rows = 200\ndf_final = pd.concat([df_new, df_coords], axis=1)\ndf_final.head(103)",
            "execution_count": null,
            "outputs": []
        },
        {
            "metadata": {},
            "cell_type": "markdown",
            "source": "## Part 3) Exploring and cluster the neighborhoods in Toronto"
        },
        {
            "metadata": {},
            "cell_type": "markdown",
            "source": "### Creating a Map of Toronto with all the Places in our created DataFrame:"
        },
        {
            "metadata": {},
            "cell_type": "code",
            "source": "address = 'Toronto'\ngeolocator = Nominatim(user_agent=\"ny_explorer\")\nlocation = geolocator.geocode(address)\nlatitude = location.latitude\nlongitude = location.longitude\nprint('The geograpical coordinate of Toronto are {}, {}.'.format(latitude, longitude))",
            "execution_count": null,
            "outputs": []
        },
        {
            "metadata": {},
            "cell_type": "code",
            "source": "# create map of Toronto using latitude and longitude values\nmap_toronto = folium.Map(location=[latitude, longitude], zoom_start=10)\n\n# add markers to map\nfor lat, lng, borough, neighbourhood in zip(df_final['Latitude'], df_final['Longitude'], df_final['Borough'], df_final['Neighbourhood']):\n    label = '{}, {}'.format(neighbourhood, borough)\n    label = folium.Popup(label, parse_html=True)\n    folium.CircleMarker(\n        [lat, lng],\n        radius=5,\n        popup=label,\n        color='blue',\n        fill=True,\n        fill_color='#3186cc',\n        fill_opacity=0.7,\n        parse_html=False).add_to(map_toronto)  \n    \nmap_toronto",
            "execution_count": null,
            "outputs": []
        },
        {
            "metadata": {},
            "cell_type": "markdown",
            "source": "### Focusing on the Downtown of Toronto:"
        },
        {
            "metadata": {},
            "cell_type": "code",
            "source": "downtown_data = df_final[df_final['Borough'] == 'Downtown Toronto'].reset_index(drop=True)\ndowntown_data.head(20)",
            "execution_count": null,
            "outputs": []
        },
        {
            "metadata": {},
            "cell_type": "code",
            "source": "address = 'Downtown, Toronto'\ngeolocator = Nominatim(user_agent=\"ny_explorer\")\nlocation = geolocator.geocode(address)\nlatitude = location.latitude\nlongitude = location.longitude\nprint('The geograpical coordinate of Downtown, Toronto are {}, {}.'.format(latitude, longitude))",
            "execution_count": null,
            "outputs": []
        },
        {
            "metadata": {},
            "cell_type": "code",
            "source": "# create map of Toronto using latitude and longitude values\nmap_downtown = folium.Map(location=[latitude, longitude], zoom_start=10)\n\n# add markers to map\nfor lat, lng, borough, neighbourhood in zip(downtown_data['Latitude'], downtown_data['Longitude'], downtown_data['Borough'], downtown_data['Neighbourhood']):\n    label = '{}, {}'.format(neighbourhood, borough)\n    label = folium.Popup(label, parse_html=True)\n    folium.CircleMarker(\n        [lat, lng],\n        radius=5,\n        popup=label,\n        color='blue',\n        fill=True,\n        fill_color='#3186cc',\n        fill_opacity=0.7,\n        parse_html=False).add_to(map_downtown )  \n    \nmap_downtown ",
            "execution_count": null,
            "outputs": []
        },
        {
            "metadata": {},
            "cell_type": "markdown",
            "source": "### Exploring the neighbourhood \"Central Bay Street\" in Downtown Toronto:"
        },
        {
            "metadata": {},
            "cell_type": "code",
            "source": "CLIENT_ID = 'MJVQQV5B0FX2FCNI24B0JUYBWFBQAU1RVSWPVKQO20A1HR3S' # your Foursquare ID\nCLIENT_SECRET = 'DQM1EE5GLE3MHXAF23ZXNHQ0I1RXURU051T2IJRFMAFUO0GE' # your Foursquare Secret\n#ACCESS_TOKEN = 'deleted ;)' # your FourSquare Access Token\nVERSION = '20210228' # Foursquare API version\n\nprint('Your credentails:')\nprint('CLIENT_ID: ' + CLIENT_ID)\nprint('CLIENT_SECRET:' + CLIENT_SECRET)\n\n",
            "execution_count": null,
            "outputs": []
        },
        {
            "metadata": {},
            "cell_type": "code",
            "source": "selected_address = \"Central Bay Street\"\n\nindex = downtown_data[downtown_data[\"Neighbourhood\"]==selected_address].index.values[0]\nneighborhood_latitude = downtown_data[\"Latitude\"].iloc[index]\nneighborhood_longitude = downtown_data[\"Longitude\"].iloc[index]\n\nprint('Latitude and longitude values of {} are {}, {}.'.format(selected_address, \n                                                               neighborhood_latitude, \n                                                               neighborhood_longitude))\n\nurl = 'https://api.foursquare.com/v2/venues/explore?&client_id={}&client_secret={}&v={}&ll={},{}&radius={}&limit={}'.format(\n    CLIENT_ID, \n    CLIENT_SECRET, \n    VERSION, \n    neighborhood_latitude, \n    neighborhood_longitude, \n    radius, \n    LIMIT)\nurl # display URL",
            "execution_count": null,
            "outputs": []
        },
        {
            "metadata": {},
            "cell_type": "code",
            "source": "results = requests.get(url).json()\nresults",
            "execution_count": null,
            "outputs": []
        },
        {
            "metadata": {},
            "cell_type": "code",
            "source": "# function that extracts the category of the venue\ndef get_category_type(row):\n    try:\n        categories_list = row['categories']\n    except:\n        categories_list = row['venue.categories']\n        \n    if len(categories_list) == 0:\n        return None\n    else:\n        return categories_list[0]['name']",
            "execution_count": null,
            "outputs": []
        },
        {
            "metadata": {},
            "cell_type": "code",
            "source": "venues = results['response']['groups'][0]['items']\n\n# flatten JSON\nnearby_venues = json_normalize(venues)\n\n# filter columns\nfiltered_columns = ['venue.name', 'venue.categories', 'venue.location.lat', 'venue.location.lng']\nnearby_venues =nearby_venues.loc[:, filtered_columns]\n\n# filter the category for each row\nnearby_venues['venue.categories'] = nearby_venues.apply(get_category_type, axis=1)\n\n# clean columns\nnearby_venues.columns = [col.split(\".\")[-1] for col in nearby_venues.columns]\n\nprint(len(nearby_venues))\nnearby_venues.head(10)",
            "execution_count": null,
            "outputs": []
        },
        {
            "metadata": {},
            "cell_type": "code",
            "source": "print(f\"{len(nearby_venues)} venues in the area of the '{selected_address}' neighbourhood have been reported from foursquare\")",
            "execution_count": null,
            "outputs": []
        },
        {
            "metadata": {},
            "cell_type": "markdown",
            "source": "### Mark all the gained venues in the neighbourhood \"Central Bay Street\":"
        },
        {
            "metadata": {},
            "cell_type": "code",
            "source": "# create map of Central Bay Street neighbourhood using latitude and longitude values\nmap_nearby_venues = folium.Map(location=[neighborhood_latitude, neighborhood_longitude], zoom_start=16)\n\n# add markers to map\nfor lat, lng, name, categories in zip(nearby_venues['lat'], nearby_venues['lng'], nearby_venues['name'], nearby_venues['categories']):\n    label = '{}, {}'.format(name, categories)\n    label = folium.Popup(label, parse_html=True)\n    folium.CircleMarker(\n        [lat, lng],\n        radius=5,\n        popup=label,\n        color='blue',\n        fill=True,\n        fill_color='#3186cc',\n        fill_opacity=0.7,\n        parse_html=False).add_to(map_nearby_venues )  \n    \nmap_nearby_venues",
            "execution_count": null,
            "outputs": []
        },
        {
            "metadata": {},
            "cell_type": "markdown",
            "source": "### NOTICE: The Venues are either located along the Yonge Street or Collage Street. <br> Let's try to cluster these venues!\n "
        },
        {
            "metadata": {},
            "cell_type": "code",
            "source": "feature_matrix = np.column_stack((nearby_venues[\"lat\"], nearby_venues[\"lng\"]))\nprint(len(feature_matrix))\nfeature_matrix[0:10]",
            "execution_count": null,
            "outputs": []
        },
        {
            "metadata": {},
            "cell_type": "code",
            "source": "k_means = KMeans(init=\"k-means++\", n_clusters=2, n_init=20)\nk_means.fit(feature_matrix)\nk_means_labels = k_means.labels_\nk_means_cluster_centers = k_means.cluster_centers_",
            "execution_count": null,
            "outputs": []
        },
        {
            "metadata": {},
            "cell_type": "code",
            "source": "# initialize the plot with the specified dimensions.\nfig = plt.figure(figsize=(15, 10))\n\n# colors uses a color map, which will produce an array of colors based on\n# the number of labels. We use set(k_means_labels) to get the\n# unique labels.\ncolors = plt.cm.Spectral(np.linspace(0, 1, len(set(k_means_labels))))\n\n# create a plot\nax = fig.add_subplot(1, 1, 1)\n\n# loop through the data and plot the datapoints and centroids.\n# k will range from 0-3, which will match the number of clusters in the dataset.\nfor k, col in zip(range(len([[4,4], [-2, -1], [2, -3], [1, 1]])), colors):\n\n    # create a list of all datapoints, where the datapoitns that are \n    # in the cluster (ex. cluster 0) are labeled as true, else they are\n    # labeled as false.\n    my_members = (k_means_labels == k)\n    \n    # define the centroid, or cluster center.\n    cluster_center = k_means_cluster_centers[k]\n    \n    # plot the datapoints with color col.\n    ax.plot(feature_matrix[my_members, 0], feature_matrix[my_members, 1], 'w', markerfacecolor=col, marker='.', markersize=10)\n    \n    # plot the centroids with specified color, but with a darker outline\n    ax.plot(cluster_center[0], cluster_center[1], 'o', markerfacecolor=col,  markeredgecolor='k', markersize=10)\n\n# title of the plot\nax.set_title('KMeans')\n\n# show the plot\nplt.show()",
            "execution_count": null,
            "outputs": []
        },
        {
            "metadata": {},
            "cell_type": "markdown",
            "source": "### Successfully grouped the venues in the 'Central Bay Street' neighbourhood  in two clusters"
        }
    ],
    "metadata": {
        "language_info": {
            "name": "python",
            "version": "3.7.10",
            "mimetype": "text/x-python",
            "codemirror_mode": {
                "name": "ipython",
                "version": 3
            },
            "pygments_lexer": "ipython3",
            "nbconvert_exporter": "python",
            "file_extension": ".py"
        },
        "kernelspec": {
            "name": "python3",
            "display_name": "Python 3.7",
            "language": "python"
        }
    },
    "nbformat": 4,
    "nbformat_minor": 2
}